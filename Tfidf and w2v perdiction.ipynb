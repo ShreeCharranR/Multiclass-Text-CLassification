{
 "cells": [
  {
   "cell_type": "markdown",
   "metadata": {
    "id": "OkUl9d12HGaG"
   },
   "source": [
    "# IMPORT"
   ]
  },
  {
   "cell_type": "code",
   "execution_count": 1,
   "metadata": {
    "colab": {
     "base_uri": "https://localhost:8080/"
    },
    "id": "aoYqnsOI9gP-",
    "outputId": "716a9c19-27ec-4443-fdfb-c937bc11a085"
   },
   "outputs": [
    {
     "name": "stdout",
     "output_type": "stream",
     "text": [
      "[nltk_data] Downloading package punkt to /root/nltk_data...\n",
      "[nltk_data]   Unzipping tokenizers/punkt.zip.\n",
      "[nltk_data] Downloading package stopwords to /root/nltk_data...\n",
      "[nltk_data]   Unzipping corpora/stopwords.zip.\n",
      "[nltk_data] Downloading package wordnet to /root/nltk_data...\n",
      "[nltk_data]   Unzipping corpora/wordnet.zip.\n"
     ]
    }
   ],
   "source": [
    "import numpy as np\n",
    "import pandas as pd\n",
    "import seaborn as sns\n",
    "import matplotlib.pyplot as plt\n",
    "import re\n",
    "import nltk\n",
    "nltk.download('punkt')\n",
    "nltk.download('stopwords')\n",
    "nltk.download('wordnet')\n",
    "from sklearn.preprocessing import LabelEncoder\n",
    "from sklearn.model_selection import GridSearchCV\n",
    "from sklearn.model_selection import train_test_split\n",
    "from sklearn.feature_extraction.text import TfidfVectorizer\n",
    "from gensim.models import Word2Vec\n",
    "from sklearn.pipeline import Pipeline\n",
    "from sklearn.svm import SVC\n",
    "from sklearn.naive_bayes import GaussianNB\n",
    "from sklearn.naive_bayes import MultinomialNB\n",
    "from sklearn.tree import DecisionTreeClassifier\n",
    "from sklearn.neural_network import MLPClassifier\n",
    "from sklearn.ensemble import GradientBoostingClassifier\n",
    "from sklearn.metrics import precision_score, recall_score, f1_score, accuracy_score\n",
    "import warnings\n",
    "warnings.filterwarnings(\"ignore\")"
   ]
  },
  {
   "cell_type": "markdown",
   "metadata": {
    "id": "zy-vQP5yHLqh"
   },
   "source": [
    "# READ"
   ]
  },
  {
   "cell_type": "code",
   "execution_count": 2,
   "metadata": {
    "colab": {
     "base_uri": "https://localhost:8080/",
     "height": 653
    },
    "id": "ejIJG128-dVX",
    "outputId": "6a45666a-1d49-4f8b-cecc-122bfc6f8717"
   },
   "outputs": [
    {
     "name": "stdout",
     "output_type": "stream",
     "text": [
      "Copying gs://dataset-uploader/bbc/bbc-text.csv...\n",
      "/ [1 files][  4.8 MiB/  4.8 MiB]                                                \n",
      "Operation completed over 1 objects/4.8 MiB.                                      \n",
      "SHAPE OF DATASET:  (2225, 2) \n",
      "\n",
      "COLUMNS IN DATASET:  Index(['category', 'text'], dtype='object') \n",
      "\n",
      "CATEGORIES:  ['tech' 'business' 'sport' 'entertainment' 'politics'] \n",
      "\n",
      "DATA SAMPLE: \n",
      "\n",
      "            category                                               text\n",
      "813        business  us budget deficit to reach $368bn the us budge...\n",
      "1852  entertainment  surprise win for anti-bush film michael moore ...\n",
      "36             tech  gamers snap up new sony psp gamers have bought...\n",
      "1586           tech  apple ipod family expands market apple has exp...\n",
      "1530       business  ford gains from finance not cars ford  the us ... \n",
      "\n",
      "\n",
      "NUMBER OF SAMPLES IN EACH CATEGORY: \n",
      "\n"
     ]
    },
    {
     "data": {
      "text/plain": [
       "<matplotlib.axes._subplots.AxesSubplot at 0x7fcd131a4080>"
      ]
     },
     "execution_count": 2,
     "metadata": {
      "tags": []
     },
     "output_type": "execute_result"
    },
    {
     "data": {
      "image/png": "[encoded data removed]",
      "text/plain": [
       "<Figure size 432x288 with 1 Axes>"
      ]
     },
     "metadata": {
      "needs_background": "light",
      "tags": []
     },
     "output_type": "display_data"
    }
   ],
   "source": [
    "# Read data frame\n",
    "!gsutil cp gs://dataset-uploader/bbc/bbc-text.csv .\n",
    "df = pd.read_csv('bbc-text.csv')\n",
    "\n",
    "# Description of the dataset\n",
    "print('SHAPE OF DATASET: ', df.shape, '\\n\\nCOLUMNS IN DATASET: ', df.columns, '\\n\\nCATEGORIES: ', df.category.unique(), '\\n\\nDATA SAMPLE: \\n\\n', df.sample(n=5), '\\n\\n')\n",
    "\n",
    "# Plotting number of samples within each category\n",
    "print('NUMBER OF SAMPLES IN EACH CATEGORY: \\n')\n",
    "sns.countplot(df.category)"
   ]
  },
  {
   "cell_type": "markdown",
   "metadata": {
    "id": "w8JavN4FHNn7"
   },
   "source": [
    "# CLEAN"
   ]
  },
  {
   "cell_type": "code",
   "execution_count": 3,
   "metadata": {
    "colab": {
     "base_uri": "https://localhost:8080/"
    },
    "id": "22L7TrqYtFiz",
    "outputId": "a4bf7379-e2bd-41c1-f957-aa197fc8b6cd"
   },
   "outputs": [
    {
     "name": "stdout",
     "output_type": "stream",
     "text": [
      "Data cleaning in progress...\n",
      "Tokenization complete.\n",
      "Stop words removed.\n",
      "Numbers, punctuation and special characters removed.\n",
      "Lemmatization complete.\n",
      "Data cleaning complete.\n",
      "\n"
     ]
    }
   ],
   "source": [
    "# DATA CLEANING\n",
    "print('Data cleaning in progress...')\n",
    "\n",
    "# Tokenize\n",
    "df['text_clean'] = df['text'].apply(nltk.word_tokenize)\n",
    "print('Tokenization complete.')\n",
    "\n",
    "# Remove stop words\n",
    "stop_words=set(nltk.corpus.stopwords.words(\"english\"))\n",
    "df['text_clean'] = df['text_clean'].apply(lambda x: [item for item in x if item not in stop_words])\n",
    "print('Stop words removed.')\n",
    "\n",
    "# Remove numbers, punctuation and special characters (only keep words)\n",
    "regex = '[a-z]+'\n",
    "df['text_clean'] = df['text_clean'].apply(lambda x: [item for item in x if re.match(regex, item)])\n",
    "print('Numbers, punctuation and special characters removed.')\n",
    "\n",
    "# Lemmatization\n",
    "lem = nltk.stem.wordnet.WordNetLemmatizer()\n",
    "df['text_clean'] = df['text_clean'].apply(lambda x: [lem.lemmatize(item, pos='v') for item in x])\n",
    "print('Lemmatization complete.\\nData cleaning complete.\\n')"
   ]
  },
  {
   "cell_type": "markdown",
   "metadata": {
    "id": "394ApjV4HQfH"
   },
   "source": [
    "# 1 - WORD2VEC\n"
   ]
  },
  {
   "cell_type": "code",
   "execution_count": 4,
   "metadata": {
    "colab": {
     "base_uri": "https://localhost:8080/"
    },
    "id": "QiqczAO5OHM0",
    "outputId": "2736c3c3-2540-4cac-fad2-b1da7d9e5fcf"
   },
   "outputs": [
    {
     "name": "stdout",
     "output_type": "stream",
     "text": [
      "Naive Bayes :\n",
      "Accuracy: 0.387 \tPrecision: 0.408 \tRecall: 0.379 \t\tF1: 0.375\n",
      "\n",
      "SVC :\n",
      "Accuracy: 0.317 \tPrecision: 0.127 \tRecall: 0.291 \t\tF1: 0.177\n",
      "\n",
      "Decision Tree :\n",
      "Accuracy: 0.355 \tPrecision: 0.357 \tRecall: 0.356 \t\tF1: 0.355\n",
      "\n",
      "Perceptron :\n",
      "Accuracy: 0.321 \tPrecision: 0.135 \tRecall: 0.295 \t\tF1: 0.183\n",
      "\n",
      "Gradient Boosting :\n",
      "Accuracy: 0.443 \tPrecision: 0.443 \tRecall: 0.441 \t\tF1: 0.439\n",
      "\n"
     ]
    }
   ],
   "source": [
    "# Classification using word2vec vectorizer\n",
    "\n",
    "vec_model = Word2Vec(df['text_clean'])\n",
    "w2v = dict(zip(vec_model.wv.index2word, vec_model.wv.syn0))\n",
    "\n",
    "class Vectorizer(object):\n",
    "    \n",
    "    def __init__(self, vec):\n",
    "        self.vec = vec\n",
    "        self.dim = len(vec.values())\n",
    "\n",
    "    def fit(self, X, y):\n",
    "        return self\n",
    "\n",
    "    def transform(self, X):\n",
    "        return np.array([np.mean([self.vec[w] for w in words if w in self.vec] or [np.zeros(self.dim)], axis=0) for words in X])\n",
    "\n",
    "class Classifier(object):\n",
    "    \n",
    "    def __init__(self, model, param):\n",
    "        self.model = model\n",
    "        self.param = param\n",
    "        self.gs = GridSearchCV(self.model, self.param, cv=5, error_score=0, refit=True)        \n",
    "\n",
    "    def fit(self, X, y):        \n",
    "        return self.gs.fit(X, y)\n",
    "\n",
    "    def predict(self, X):\n",
    "        return self.gs.predict(X)\n",
    "\n",
    "clf_models = {\n",
    "    'Naive Bayes': GaussianNB(), \n",
    "    'SVC': SVC(),\n",
    "    'Decision Tree': DecisionTreeClassifier(),  \n",
    "    'Perceptron': MLPClassifier(),\n",
    "    'Gradient Boosting': GradientBoostingClassifier()\n",
    "}\n",
    "\n",
    "clf_params = {\n",
    "    'Naive Bayes': { }, \n",
    "    'SVC': { 'kernel': ['linear', 'rbf'] },\n",
    "    'Decision Tree': { 'min_samples_split': [2, 5] }, \n",
    "    'Perceptron': { 'activation': ['tanh', 'relu'] },\n",
    "    'Gradient Boosting': { 'min_samples_split': [2, 5] }\n",
    "}\n",
    "\n",
    "X_train, X_test, y_train, y_test = train_test_split(df['text'], df['category'], test_size=0.2, shuffle=True)\n",
    "\n",
    "for key in clf_models.keys():\n",
    "    \n",
    "    clf = Pipeline([('Word2Vec vectorizer', Vectorizer(w2v)), ('Classifier', Classifier(clf_models[key], clf_params[key]))])\n",
    "    \n",
    "    clf.fit(X_train, y_train)\n",
    "    y_pred = clf.predict(X_test)\n",
    "    \n",
    "    print(key, ':')\n",
    "    print(\"Accuracy: %1.3f \\tPrecision: %1.3f \\tRecall: %1.3f \\t\\tF1: %1.3f\\n\" % (accuracy_score(y_test, y_pred), precision_score(y_test, y_pred, average='macro'), recall_score(y_test, y_pred, average='macro'), f1_score(y_test, y_pred, average='macro')))"
   ]
  },
  {
   "cell_type": "markdown",
   "metadata": {
    "id": "jVlyG0i7LDwb"
   },
   "source": [
    "# 2-TFIDF"
   ]
  },
  {
   "cell_type": "code",
   "execution_count": 5,
   "metadata": {
    "colab": {
     "base_uri": "https://localhost:8080/"
    },
    "id": "YTfHetcHmoaM",
    "outputId": "9951eb8b-949a-4b4a-eb9a-c80a31011604"
   },
   "outputs": [
    {
     "name": "stdout",
     "output_type": "stream",
     "text": [
      "Vectorization complete.\n",
      "\n",
      "Naive Bayes : {'alpha': 0.5, 'fit_prior': False}\n",
      "Precision: 0.973 \tRecall: 0.972 \t\tF1: 0.972\n",
      "\n",
      "Decision Tree : {'min_samples_split': 2}\n",
      "Precision: 0.783 \tRecall: 0.784 \t\tF1: 0.784\n",
      "\n",
      "Perceptron : {'activation': 'relu', 'alpha': 0.0001}\n",
      "Precision: 0.989 \tRecall: 0.990 \t\tF1: 0.990\n",
      "\n",
      "Gradient Boosting : {'learning_rate': 0.1, 'min_samples_split': 2}\n",
      "Precision: 0.963 \tRecall: 0.960 \t\tF1: 0.962\n",
      "\n"
     ]
    }
   ],
   "source": [
    "# Classification using TFIDF vectorizer\n",
    "\n",
    "# Vectorize training and testing data\n",
    "def Vectorize(vec, X_train, X_test):    \n",
    "    \n",
    "    X_train_vec = vec.fit_transform(X_train)\n",
    "    X_test_vec = vec.transform(X_test)\n",
    "    \n",
    "    print('Vectorization complete.\\n')\n",
    "    \n",
    "    return X_train_vec, X_test_vec\n",
    "\n",
    "# Use multiple classifiers and grid search for prediction\n",
    "def ML_modeling(models, params, X_train, X_test, y_train, y_test):    \n",
    "    \n",
    "    if not set(models.keys()).issubset(set(params.keys())):\n",
    "        raise ValueError('Some estimators are missing parameters')\n",
    "\n",
    "    for key in models.keys():\n",
    "    \n",
    "        model = models[key]\n",
    "        param = params[key]\n",
    "        gs = GridSearchCV(model, param, cv=5, error_score=0, refit=True)\n",
    "        gs.fit(X_train, y_train)\n",
    "        y_pred = gs.predict(X_test)\n",
    "        \n",
    "        # Print scores for the classifier\n",
    "        print(key, ':', gs.best_params_)\n",
    "        print(\"Precision: %1.3f \\tRecall: %1.3f \\t\\tF1: %1.3f\\n\" % (precision_score(y_test, y_pred, average='macro'), recall_score(y_test, y_pred, average='macro'), f1_score(y_test, y_pred, average='macro')))\n",
    "    \n",
    "    return\n",
    "\n",
    "models = {\n",
    "    'Naive Bayes': MultinomialNB(), \n",
    "    'Decision Tree': DecisionTreeClassifier(),  \n",
    "    'Perceptron': MLPClassifier(),\n",
    "    'Gradient Boosting': GradientBoostingClassifier()\n",
    "}\n",
    "\n",
    "params = {\n",
    "    'Naive Bayes': { 'alpha': [0.5, 1], 'fit_prior': [True, False] }, \n",
    "    'Decision Tree': { 'min_samples_split': [1, 2, 5] }, \n",
    "    'Perceptron': { 'alpha': [0.0001, 0.001], 'activation': ['tanh', 'relu'] },\n",
    "    'Gradient Boosting': { 'learning_rate': [0.05, 0.1], 'min_samples_split': [2, 5] }\n",
    "}\n",
    "\n",
    "# Encode label categories to numbers\n",
    "enc = LabelEncoder()\n",
    "df['category'] = enc.fit_transform(df['category'])\n",
    "labels = list(enc.classes_)\n",
    "\n",
    "# Train-test split and vectorize\n",
    "X_train, X_test, y_train, y_test = train_test_split(df['text'], df['category'], test_size=0.2, shuffle=True)\n",
    "X_train_vec, X_test_vec = Vectorize(TfidfVectorizer(), X_train, X_test)\n",
    "\n",
    "ML_modeling(models, params, X_train_vec, X_test_vec, y_train, y_test)"
   ]
  }
 ],
 "metadata": {
  "colab": {
   "name": "Copy of bbc-text-classification.ipynb",
   "provenance": []
  },
  "kernelspec": {
   "display_name": "Python 3",
   "language": "python",
   "name": "python3"
  },
  "language_info": {
   "codemirror_mode": {
    "name": "ipython",
    "version": 3
   },
   "file_extension": ".py",
   "mimetype": "text/x-python",
   "name": "python",
   "nbconvert_exporter": "python",
   "pygments_lexer": "ipython3",
   "version": "3.5.6"
  }
 },
 "nbformat": 4,
 "nbformat_minor": 4
}
